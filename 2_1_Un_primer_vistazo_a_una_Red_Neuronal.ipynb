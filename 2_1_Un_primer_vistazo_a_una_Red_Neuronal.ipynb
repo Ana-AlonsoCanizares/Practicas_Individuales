{
  "nbformat": 4,
  "nbformat_minor": 0,
  "metadata": {
    "kernelspec": {
      "display_name": "Python 3",
      "language": "python",
      "name": "python3"
    },
    "language_info": {
      "codemirror_mode": {
        "name": "ipython",
        "version": 3
      },
      "file_extension": ".py",
      "mimetype": "text/x-python",
      "name": "python",
      "nbconvert_exporter": "python",
      "pygments_lexer": "ipython3",
      "version": "3.8.5"
    },
    "colab": {
      "provenance": [],
      "collapsed_sections": [
        "e6rlKx2nCOgU"
      ],
      "include_colab_link": true
    },
    "accelerator": "GPU",
    "gpuClass": "standard"
  },
  "cells": [
    {
      "cell_type": "markdown",
      "metadata": {
        "id": "view-in-github",
        "colab_type": "text"
      },
      "source": [
        "<a href=\"https://colab.research.google.com/github/Ana-AlonsoCanizares/Practicas_Individuales/blob/main/2_1_Un_primer_vistazo_a_una_Red_Neuronal.ipynb\" target=\"_parent\"><img src=\"https://colab.research.google.com/assets/colab-badge.svg\" alt=\"Open In Colab\"/></a>"
      ]
    },
    {
      "cell_type": "markdown",
      "source": [],
      "metadata": {
        "id": "8CdGF5bi9Jeh"
      }
    },
    {
      "cell_type": "markdown",
      "metadata": {
        "id": "Ejg7Msp7rbkk"
      },
      "source": [
        "# Ejercicio con regularizadores"
      ]
    },
    {
      "cell_type": "code",
      "source": [
        "%tensorflow_version 2.x\n",
        "import tensorflow as tf\n",
        "from tensorflow import keras\n",
        "print(tf.keras.__version__)\n",
        "print(\"GPU Available:\", tf.config.list_physical_devices('GPU'))\n",
        "print(tf.__version__)\n",
        "from keras.datasets import mnist\n",
        "from keras import models\n",
        "from keras import layers\n",
        "import numpy as np\n",
        "import matplotlib.pyplot as plt\n",
        "from keras import regularizers"
      ],
      "metadata": {
        "id": "BSivef1i532C",
        "outputId": "58f236cd-3e6e-4bc8-9feb-43cee38b07b4",
        "colab": {
          "base_uri": "https://localhost:8080/"
        }
      },
      "execution_count": 1,
      "outputs": [
        {
          "output_type": "stream",
          "name": "stdout",
          "text": [
            "Colab only includes TensorFlow 2.x; %tensorflow_version has no effect.\n",
            "2.9.0\n",
            "GPU Available: [PhysicalDevice(name='/physical_device:GPU:0', device_type='GPU')]\n",
            "2.9.2\n"
          ]
        }
      ]
    },
    {
      "cell_type": "code",
      "source": [
        "# CARGAMOS EL CONJUNTO DE DATOS MNIST EN KERAS\n",
        "from keras.datasets import mnist\n",
        "\n",
        "(train_images, train_labels), (test_images, test_labels) = mnist.load_data()"
      ],
      "metadata": {
        "id": "3t3R6gU9-wUy",
        "outputId": "b5b010ac-efb6-42e2-9e72-bc5eec1ac460",
        "colab": {
          "base_uri": "https://localhost:8080/"
        }
      },
      "execution_count": 2,
      "outputs": [
        {
          "output_type": "stream",
          "name": "stdout",
          "text": [
            "Downloading data from https://storage.googleapis.com/tensorflow/tf-keras-datasets/mnist.npz\n",
            "11490434/11490434 [==============================] - 2s 0us/step\n"
          ]
        }
      ]
    },
    {
      "cell_type": "code",
      "source": [
        "# Prepara con reshape y normaliza las imágenes tanto de entrenamiento como de test\n",
        "\n",
        "# Imagenes y etiquetas de entrenamiento.\n",
        "train_images = train_images.reshape((60000, 28 * 28))\n",
        "train_images = train_images.astype('float32') / 255\n",
        "\n",
        "# Imagenes y etiquetas de test.\n",
        "test_images = test_images.reshape((10000, 28 * 28))\n",
        "test_images = test_images.astype('float32') / 255"
      ],
      "metadata": {
        "id": "H6n5NeSz0U1d"
      },
      "execution_count": 3,
      "outputs": []
    },
    {
      "cell_type": "code",
      "source": [
        "# Crear un subconjunto de imágenes de entrenamiento que llamaré\n",
        "# validation_images, para hacer las validaciones, con las 10000 últimas imágenes \n",
        "# del set de datos de entrenamiento (train_images) (obviamente, lo mismo con las\n",
        "# etiquetas correspondientes -> validation_labels). Deja preparadas las 50K \n",
        "# primeras imágenes y etiquetas para entrenamiento (train_images y train_labels)\n",
        "\n",
        "validation_images = train_images[50000:]\n",
        "validation_labels = train_labels[50000:]\n",
        "\n",
        "train_images_val = train_images[:50000]\n",
        "train_labels_val = train_labels[:50000]"
      ],
      "metadata": {
        "id": "NKoZGyap0XAj"
      },
      "execution_count": 4,
      "outputs": []
    },
    {
      "cell_type": "code",
      "source": [
        "def crea_modelo(regularizador):\n",
        "  # Define una función que recibe un número del 0 al 4 que creará:\n",
        "  # un modelo secuencial con una capa de entrada densa de 512 neuronas\n",
        "  # con activación relu y la capa de salida que le corresponda según el problema\n",
        "  # Ahora, en función del número del regularizador:\n",
        "  # Si es 0, no mete ningún regularizador\n",
        "  # Si es 1, mete un regularizador de tipo l1 y valor 0.001\n",
        "  # Si es 2, mete un regularizador de tipo l2 y valor 0.001\n",
        "  # Si es 3, mete un regularizador de tipo l1_l2 y valor 0.001 para ambos\n",
        "  # Si es 4, mete un Dropout del 50% después de la primera capa densa\n",
        "  # Si es distinto que estos valores, escribe el error y retorna\n",
        "  # Al final, esta función pinta el summary del modelo y retorna el modelo creado\n",
        "\n",
        "  # Creo el modelo secuencial\n",
        "  Modelo = models.Sequential()\n",
        "\n",
        "  # Elijo cómo será la primera capa en función del valor del regularizador\n",
        "  if regularizador == 0:\n",
        "    Modelo.add(layers.Dense(512, activation = 'relu', input_shape=(28*28,)))\n",
        "  elif regularizador == 1:\n",
        "    Modelo.add(layers.Dense(512, kernel_regularizer = regularizers.l1(0.001), activation = 'relu', input_shape=(28*28,)))\n",
        "  elif regularizador == 2:\n",
        "    Modelo.add(layers.Dense(512, kernel_regularizer = regularizers.l2(0.001), activation = 'relu', input_shape=(28*28,)))\n",
        "  elif regularizador == 3:\n",
        "    Modelo.add(layers.Dense(512, kernel_regularizer = regularizers.l1_l2(0.001), activation = 'relu', input_shape=(28*28,)))\n",
        "  elif regularizador == 4:\n",
        "    Modelo.add(layers.Dense(512, activation = 'relu', input_shape=(28*28,)))\n",
        "    Modelo.add(layers.Dropout(0.5))\n",
        "  else:\n",
        "    print('El número introducido no sirve. Debe estar entre 0 y 4.')\n",
        "    return Modelo\n",
        "\n",
        "  # Capa de salida con 10 neuronas que corresponden a las diez clases.\n",
        "  Modelo.add(layers.Dense(10, activation='softmax'))\n",
        "  Modelo.summary()\n",
        "  return Modelo"
      ],
      "metadata": {
        "id": "6JnVLVfsAfkh"
      },
      "execution_count": 5,
      "outputs": []
    },
    {
      "cell_type": "code",
      "source": [
        "def compila_modelo(modelo): \n",
        "  # Define una función que recibe un modelo, lo compila con un optimizador\n",
        "  # 'rmsprop', con una función de pérdida 'sparse_categorical_crossentropy' y\n",
        "  # una métrica de precisión. La función retorna el modelo\n",
        "\n",
        "  modelo.compile(optimizer='rmsprop',\n",
        "                 loss='sparse_categorical_crossentropy',\n",
        "                 metrics=['accuracy'])\n",
        "  return modelo"
      ],
      "metadata": {
        "id": "qKyJ8KOT0aFt"
      },
      "execution_count": 6,
      "outputs": []
    },
    {
      "cell_type": "code",
      "source": [
        "def entrena_modelo(modelo):\n",
        "  # Define una función que entrena el modelo que se le pasa por parámetro,\n",
        "  # con las imágenes y etiquetas de entrenamiento, con 30 iteraciones y 128\n",
        "  # de tamaño de minilote y con el validation_data creado más arriba.\n",
        "  # Esta función devuelve un history\n",
        "  history = modelo.fit(train_images_val, \n",
        "                       train_labels_val, \n",
        "                       epochs=30, \n",
        "                       batch_size=128,\n",
        "                       validation_data = (validation_images, validation_labels))\n",
        "  return history"
      ],
      "metadata": {
        "id": "_yQ7SpOt0cBp"
      },
      "execution_count": 7,
      "outputs": []
    },
    {
      "cell_type": "code",
      "source": [
        "def pinta_perdida_entrenamiento_validacion(historia):\n",
        "  history_dict = historia.history\n",
        "  acc = historia.history['accuracy']\n",
        "  val_acc = historia.history['val_accuracy']\n",
        "  loss = historia.history['loss']\n",
        "  val_loss = historia.history['val_loss']\n",
        "  epochs = range(1, len(acc) + 1)\n",
        "  # \"bo\" es para \"punto azun\"\n",
        "  plt.plot(epochs, loss, 'bo', label='Pérdida de Entrenamiento')\n",
        "  # \"b\" es para \"linea continua azul\"\n",
        "  plt.plot(epochs, val_loss, 'b', label='Pérdida de Validación')\n",
        "  plt.title('Pérdida de Entrenamiento y Validación')\n",
        "  plt.xlabel('Epochs')\n",
        "  plt.ylabel('Loss')\n",
        "  plt.legend()\n",
        "  plt.show()"
      ],
      "metadata": {
        "id": "bJrRNc4WwPN2"
      },
      "execution_count": 8,
      "outputs": []
    },
    {
      "cell_type": "code",
      "source": [
        "def pinta_precision_entrenamiento_validacion(historia):\n",
        "  history_dict = historia.history\n",
        "  acc = historia.history['accuracy']\n",
        "  val_acc = historia.history['val_accuracy']\n",
        "  loss = historia.history['loss']\n",
        "  val_loss = historia.history['val_loss']\n",
        "  plt.clf()   # Limpia la figura\n",
        "  acc_values = history_dict['accuracy']\n",
        "  val_acc_values = history_dict['val_accuracy']\n",
        "  epochs = range(1, len(acc) + 1)\n",
        "  plt.plot(epochs, acc, 'bo', label='Precisión de Entrenamiento')\n",
        "  plt.plot(epochs, val_acc, 'b', label='Precisión de Validación')\n",
        "  plt.title('Precisión de Entrenamiento y Valización')\n",
        "  plt.xlabel('Epochs')\n",
        "  plt.ylabel('Accuracy')\n",
        "  plt.legend()\n",
        "  plt.show()"
      ],
      "metadata": {
        "id": "Mafxp6D3wYQx"
      },
      "execution_count": 9,
      "outputs": []
    },
    {
      "cell_type": "markdown",
      "source": [
        "## Una vez definidas todas las funciones anteriores, ejecuta las siguientes llamadas a dichas funciones y deduce que está pasando y, para este contexto, que es lo que mejor está funcionando"
      ],
      "metadata": {
        "id": "6nnQYysYA3_T"
      }
    },
    {
      "cell_type": "markdown",
      "source": [
        "### Caso 0, sin regularizadores"
      ],
      "metadata": {
        "id": "OrGwDgaFBax4"
      }
    },
    {
      "cell_type": "code",
      "source": [
        "network0 = crea_modelo(0)"
      ],
      "metadata": {
        "id": "uXvhlXg79Zi9",
        "outputId": "2cbaabbb-775f-43c4-834c-7967d5da2aa4",
        "colab": {
          "base_uri": "https://localhost:8080/"
        }
      },
      "execution_count": 10,
      "outputs": [
        {
          "output_type": "stream",
          "name": "stdout",
          "text": [
            "Model: \"sequential\"\n",
            "_________________________________________________________________\n",
            " Layer (type)                Output Shape              Param #   \n",
            "=================================================================\n",
            " dense (Dense)               (None, 512)               401920    \n",
            "                                                                 \n",
            " dense_1 (Dense)             (None, 10)                5130      \n",
            "                                                                 \n",
            "=================================================================\n",
            "Total params: 407,050\n",
            "Trainable params: 407,050\n",
            "Non-trainable params: 0\n",
            "_________________________________________________________________\n"
          ]
        }
      ]
    },
    {
      "cell_type": "code",
      "source": [
        "network0 = compila_modelo(network0)"
      ],
      "metadata": {
        "id": "Ff0HC3NR9ez8"
      },
      "execution_count": 11,
      "outputs": []
    },
    {
      "cell_type": "code",
      "source": [
        "historia0 = entrena_modelo(network0)"
      ],
      "metadata": {
        "id": "x9zQDOlw9g6V",
        "outputId": "2f5a08f4-1881-4d5f-dae0-13f75fc162ad",
        "colab": {
          "base_uri": "https://localhost:8080/"
        }
      },
      "execution_count": 12,
      "outputs": [
        {
          "output_type": "stream",
          "name": "stdout",
          "text": [
            "Epoch 1/30\n",
            "391/391 [==============================] - 4s 6ms/step - loss: 0.2810 - accuracy: 0.9179 - val_loss: 0.1850 - val_accuracy: 0.9430\n",
            "Epoch 2/30\n",
            "391/391 [==============================] - 2s 6ms/step - loss: 0.1164 - accuracy: 0.9659 - val_loss: 0.1012 - val_accuracy: 0.9715\n",
            "Epoch 3/30\n",
            "391/391 [==============================] - 2s 6ms/step - loss: 0.0771 - accuracy: 0.9769 - val_loss: 0.0945 - val_accuracy: 0.9721\n",
            "Epoch 4/30\n",
            "391/391 [==============================] - 2s 5ms/step - loss: 0.0548 - accuracy: 0.9837 - val_loss: 0.0846 - val_accuracy: 0.9753\n",
            "Epoch 5/30\n",
            "391/391 [==============================] - 2s 6ms/step - loss: 0.0416 - accuracy: 0.9878 - val_loss: 0.0729 - val_accuracy: 0.9791\n",
            "Epoch 6/30\n",
            "391/391 [==============================] - 3s 6ms/step - loss: 0.0317 - accuracy: 0.9905 - val_loss: 0.0748 - val_accuracy: 0.9793\n",
            "Epoch 7/30\n",
            "391/391 [==============================] - 1s 3ms/step - loss: 0.0234 - accuracy: 0.9933 - val_loss: 0.0811 - val_accuracy: 0.9788\n",
            "Epoch 8/30\n",
            "391/391 [==============================] - 1s 4ms/step - loss: 0.0184 - accuracy: 0.9948 - val_loss: 0.0862 - val_accuracy: 0.9800\n",
            "Epoch 9/30\n",
            "391/391 [==============================] - 1s 3ms/step - loss: 0.0138 - accuracy: 0.9963 - val_loss: 0.0852 - val_accuracy: 0.9784\n",
            "Epoch 10/30\n",
            "391/391 [==============================] - 1s 3ms/step - loss: 0.0102 - accuracy: 0.9974 - val_loss: 0.0764 - val_accuracy: 0.9812\n",
            "Epoch 11/30\n",
            "391/391 [==============================] - 1s 3ms/step - loss: 0.0080 - accuracy: 0.9979 - val_loss: 0.0940 - val_accuracy: 0.9786\n",
            "Epoch 12/30\n",
            "391/391 [==============================] - 1s 4ms/step - loss: 0.0062 - accuracy: 0.9985 - val_loss: 0.0806 - val_accuracy: 0.9821\n",
            "Epoch 13/30\n",
            "391/391 [==============================] - 2s 4ms/step - loss: 0.0049 - accuracy: 0.9987 - val_loss: 0.0873 - val_accuracy: 0.9800\n",
            "Epoch 14/30\n",
            "391/391 [==============================] - 1s 3ms/step - loss: 0.0035 - accuracy: 0.9992 - val_loss: 0.0860 - val_accuracy: 0.9839\n",
            "Epoch 15/30\n",
            "391/391 [==============================] - 1s 3ms/step - loss: 0.0031 - accuracy: 0.9991 - val_loss: 0.0950 - val_accuracy: 0.9826\n",
            "Epoch 16/30\n",
            "391/391 [==============================] - 1s 3ms/step - loss: 0.0023 - accuracy: 0.9994 - val_loss: 0.0963 - val_accuracy: 0.9817\n",
            "Epoch 17/30\n",
            "391/391 [==============================] - 1s 3ms/step - loss: 0.0016 - accuracy: 0.9997 - val_loss: 0.0989 - val_accuracy: 0.9821\n",
            "Epoch 18/30\n",
            "391/391 [==============================] - 1s 3ms/step - loss: 0.0015 - accuracy: 0.9997 - val_loss: 0.1020 - val_accuracy: 0.9823\n",
            "Epoch 19/30\n",
            "391/391 [==============================] - 1s 3ms/step - loss: 0.0011 - accuracy: 0.9997 - val_loss: 0.1055 - val_accuracy: 0.9813\n",
            "Epoch 20/30\n",
            "391/391 [==============================] - 1s 4ms/step - loss: 0.0010 - accuracy: 0.9998 - val_loss: 0.1229 - val_accuracy: 0.9799\n",
            "Epoch 21/30\n",
            "391/391 [==============================] - 1s 3ms/step - loss: 5.8654e-04 - accuracy: 0.9998 - val_loss: 0.1135 - val_accuracy: 0.9823\n",
            "Epoch 22/30\n",
            "391/391 [==============================] - 1s 3ms/step - loss: 6.5162e-04 - accuracy: 0.9997 - val_loss: 0.1268 - val_accuracy: 0.9798\n",
            "Epoch 23/30\n",
            "391/391 [==============================] - 1s 3ms/step - loss: 5.7174e-04 - accuracy: 0.9999 - val_loss: 0.1207 - val_accuracy: 0.9822\n",
            "Epoch 24/30\n",
            "391/391 [==============================] - 1s 4ms/step - loss: 3.6719e-04 - accuracy: 0.9999 - val_loss: 0.1302 - val_accuracy: 0.9823\n",
            "Epoch 25/30\n",
            "391/391 [==============================] - 1s 4ms/step - loss: 2.1144e-04 - accuracy: 1.0000 - val_loss: 0.1318 - val_accuracy: 0.9820\n",
            "Epoch 26/30\n",
            "391/391 [==============================] - 1s 3ms/step - loss: 2.9077e-04 - accuracy: 0.9999 - val_loss: 0.1308 - val_accuracy: 0.9823\n",
            "Epoch 27/30\n",
            "391/391 [==============================] - 1s 3ms/step - loss: 2.6422e-04 - accuracy: 0.9999 - val_loss: 0.1354 - val_accuracy: 0.9831\n",
            "Epoch 28/30\n",
            "391/391 [==============================] - 1s 4ms/step - loss: 1.1735e-04 - accuracy: 1.0000 - val_loss: 0.1286 - val_accuracy: 0.9833\n",
            "Epoch 29/30\n",
            "391/391 [==============================] - 2s 5ms/step - loss: 8.4793e-05 - accuracy: 1.0000 - val_loss: 0.1356 - val_accuracy: 0.9836\n",
            "Epoch 30/30\n",
            "391/391 [==============================] - 1s 3ms/step - loss: 7.3218e-05 - accuracy: 1.0000 - val_loss: 0.1389 - val_accuracy: 0.9827\n"
          ]
        }
      ]
    },
    {
      "cell_type": "code",
      "source": [
        "pinta_perdida_entrenamiento_validacion(historia0)"
      ],
      "metadata": {
        "id": "OvhDZvS8-0mG",
        "outputId": "03fdf7ab-d489-476e-936b-a0816656a442",
        "colab": {
          "base_uri": "https://localhost:8080/",
          "height": 295
        }
      },
      "execution_count": 13,
      "outputs": [
        {
          "output_type": "display_data",
          "data": {
            "text/plain": [
              "<Figure size 432x288 with 1 Axes>"
            ],
            "image/png": "[encoded data removed]"
          },
          "metadata": {
            "needs_background": "light"
          }
        }
      ]
    },
    {
      "cell_type": "code",
      "source": [
        "pinta_precision_entrenamiento_validacion(historia0)"
      ],
      "metadata": {
        "id": "UuiL2CCH_fGN",
        "outputId": "be076760-db38-4086-d1d0-9b3bf19a058d",
        "colab": {
          "base_uri": "https://localhost:8080/",
          "height": 295
        }
      },
      "execution_count": 14,
      "outputs": [
        {
          "output_type": "display_data",
          "data": {
            "text/plain": [
              "<Figure size 432x288 with 1 Axes>"
            ],
            "image/png": "[encoded data removed]"
          },
          "metadata": {
            "needs_background": "light"
          }
        }
      ]
    },
    {
      "cell_type": "markdown",
      "source": [
        "### Caso 1: Con regularizador l1"
      ],
      "metadata": {
        "id": "pw6iBGO5Bg8J"
      }
    },
    {
      "cell_type": "code",
      "source": [
        "network1 = crea_modelo(1)"
      ],
      "metadata": {
        "id": "D6JPtw5zCz-1",
        "outputId": "e4dca7a0-f249-4ae9-d7df-893179f3e713",
        "colab": {
          "base_uri": "https://localhost:8080/"
        }
      },
      "execution_count": 15,
      "outputs": [
        {
          "output_type": "stream",
          "name": "stdout",
          "text": [
            "Model: \"sequential_1\"\n",
            "_________________________________________________________________\n",
            " Layer (type)                Output Shape              Param #   \n",
            "=================================================================\n",
            " dense_2 (Dense)             (None, 512)               401920    \n",
            "                                                                 \n",
            " dense_3 (Dense)             (None, 10)                5130      \n",
            "                                                                 \n",
            "=================================================================\n",
            "Total params: 407,050\n",
            "Trainable params: 407,050\n",
            "Non-trainable params: 0\n",
            "_________________________________________________________________\n"
          ]
        }
      ]
    },
    {
      "cell_type": "code",
      "source": [
        "network1 = compila_modelo(network1)"
      ],
      "metadata": {
        "id": "zL3Gp7wvFRq3"
      },
      "execution_count": 16,
      "outputs": []
    },
    {
      "cell_type": "code",
      "source": [
        "historia1 = entrena_modelo(network1)"
      ],
      "metadata": {
        "id": "G2FG1Z4xFW72",
        "outputId": "7646bbbf-b8e0-4c29-e393-2cd71ff57504",
        "colab": {
          "base_uri": "https://localhost:8080/"
        }
      },
      "execution_count": 17,
      "outputs": [
        {
          "output_type": "stream",
          "name": "stdout",
          "text": [
            "Epoch 1/30\n",
            "391/391 [==============================] - 2s 4ms/step - loss: 2.1407 - accuracy: 0.8446 - val_loss: 1.0867 - val_accuracy: 0.8665\n",
            "Epoch 2/30\n",
            "391/391 [==============================] - 1s 4ms/step - loss: 0.9692 - accuracy: 0.8784 - val_loss: 0.8518 - val_accuracy: 0.9101\n",
            "Epoch 3/30\n",
            "391/391 [==============================] - 1s 3ms/step - loss: 0.8397 - accuracy: 0.9011 - val_loss: 0.8159 - val_accuracy: 0.9026\n",
            "Epoch 4/30\n",
            "391/391 [==============================] - 2s 4ms/step - loss: 0.7642 - accuracy: 0.9158 - val_loss: 0.7066 - val_accuracy: 0.9288\n",
            "Epoch 5/30\n",
            "391/391 [==============================] - 1s 3ms/step - loss: 0.7133 - accuracy: 0.9242 - val_loss: 0.6591 - val_accuracy: 0.9394\n",
            "Epoch 6/30\n",
            "391/391 [==============================] - 2s 4ms/step - loss: 0.6756 - accuracy: 0.9309 - val_loss: 0.6418 - val_accuracy: 0.9402\n",
            "Epoch 7/30\n",
            "391/391 [==============================] - 1s 3ms/step - loss: 0.6477 - accuracy: 0.9342 - val_loss: 0.6359 - val_accuracy: 0.9401\n",
            "Epoch 8/30\n",
            "391/391 [==============================] - 1s 3ms/step - loss: 0.6253 - accuracy: 0.9397 - val_loss: 0.6372 - val_accuracy: 0.9308\n",
            "Epoch 9/30\n",
            "391/391 [==============================] - 1s 4ms/step - loss: 0.6071 - accuracy: 0.9418 - val_loss: 0.6098 - val_accuracy: 0.9416\n",
            "Epoch 10/30\n",
            "391/391 [==============================] - 1s 3ms/step - loss: 0.5908 - accuracy: 0.9443 - val_loss: 0.5566 - val_accuracy: 0.9538\n",
            "Epoch 11/30\n",
            "391/391 [==============================] - 1s 3ms/step - loss: 0.5799 - accuracy: 0.9456 - val_loss: 0.5597 - val_accuracy: 0.9510\n",
            "Epoch 12/30\n",
            "391/391 [==============================] - 2s 4ms/step - loss: 0.5680 - accuracy: 0.9476 - val_loss: 0.5810 - val_accuracy: 0.9444\n",
            "Epoch 13/30\n",
            "391/391 [==============================] - 1s 4ms/step - loss: 0.5583 - accuracy: 0.9489 - val_loss: 0.5604 - val_accuracy: 0.9508\n",
            "Epoch 14/30\n",
            "391/391 [==============================] - 1s 4ms/step - loss: 0.5508 - accuracy: 0.9493 - val_loss: 0.5553 - val_accuracy: 0.9499\n",
            "Epoch 15/30\n",
            "391/391 [==============================] - 2s 4ms/step - loss: 0.5434 - accuracy: 0.9515 - val_loss: 0.5334 - val_accuracy: 0.9526\n",
            "Epoch 16/30\n",
            "391/391 [==============================] - 1s 4ms/step - loss: 0.5370 - accuracy: 0.9515 - val_loss: 0.5270 - val_accuracy: 0.9565\n",
            "Epoch 17/30\n",
            "391/391 [==============================] - 1s 3ms/step - loss: 0.5313 - accuracy: 0.9534 - val_loss: 0.5211 - val_accuracy: 0.9566\n",
            "Epoch 18/30\n",
            "391/391 [==============================] - 1s 3ms/step - loss: 0.5271 - accuracy: 0.9539 - val_loss: 0.5382 - val_accuracy: 0.9520\n",
            "Epoch 19/30\n",
            "391/391 [==============================] - 1s 3ms/step - loss: 0.5220 - accuracy: 0.9540 - val_loss: 0.5658 - val_accuracy: 0.9409\n",
            "Epoch 20/30\n",
            "391/391 [==============================] - 1s 3ms/step - loss: 0.5181 - accuracy: 0.9551 - val_loss: 0.5345 - val_accuracy: 0.9474\n",
            "Epoch 21/30\n",
            "391/391 [==============================] - 1s 4ms/step - loss: 0.5140 - accuracy: 0.9552 - val_loss: 0.4919 - val_accuracy: 0.9646\n",
            "Epoch 22/30\n",
            "391/391 [==============================] - 2s 4ms/step - loss: 0.5099 - accuracy: 0.9558 - val_loss: 0.4989 - val_accuracy: 0.9575\n",
            "Epoch 23/30\n",
            "391/391 [==============================] - 2s 6ms/step - loss: 0.5071 - accuracy: 0.9564 - val_loss: 0.5017 - val_accuracy: 0.9599\n",
            "Epoch 24/30\n",
            "391/391 [==============================] - 1s 3ms/step - loss: 0.5034 - accuracy: 0.9565 - val_loss: 0.5164 - val_accuracy: 0.9537\n",
            "Epoch 25/30\n",
            "391/391 [==============================] - 2s 4ms/step - loss: 0.5020 - accuracy: 0.9560 - val_loss: 0.5045 - val_accuracy: 0.9582\n",
            "Epoch 26/30\n",
            "391/391 [==============================] - 1s 3ms/step - loss: 0.4985 - accuracy: 0.9579 - val_loss: 0.4971 - val_accuracy: 0.9570\n",
            "Epoch 27/30\n",
            "391/391 [==============================] - 2s 4ms/step - loss: 0.4972 - accuracy: 0.9575 - val_loss: 0.4975 - val_accuracy: 0.9591\n",
            "Epoch 28/30\n",
            "391/391 [==============================] - 2s 4ms/step - loss: 0.4952 - accuracy: 0.9575 - val_loss: 0.4872 - val_accuracy: 0.9619\n",
            "Epoch 29/30\n",
            "391/391 [==============================] - 1s 4ms/step - loss: 0.4915 - accuracy: 0.9590 - val_loss: 0.5265 - val_accuracy: 0.9537\n",
            "Epoch 30/30\n",
            "391/391 [==============================] - 1s 3ms/step - loss: 0.4910 - accuracy: 0.9584 - val_loss: 0.5724 - val_accuracy: 0.9313\n"
          ]
        }
      ]
    },
    {
      "cell_type": "code",
      "source": [
        "pinta_perdida_entrenamiento_validacion(historia1)"
      ],
      "metadata": {
        "id": "Vyv3yFtiFitw",
        "outputId": "6b12135c-aa41-4ba2-fc7f-5e43c74b6342",
        "colab": {
          "base_uri": "https://localhost:8080/",
          "height": 295
        }
      },
      "execution_count": 18,
      "outputs": [
        {
          "output_type": "display_data",
          "data": {
            "text/plain": [
              "<Figure size 432x288 with 1 Axes>"
            ],
            "image/png": "[encoded data removed]"
          },
          "metadata": {
            "needs_background": "light"
          }
        }
      ]
    },
    {
      "cell_type": "code",
      "source": [
        "pinta_precision_entrenamiento_validacion(historia1)"
      ],
      "metadata": {
        "id": "pVUerJsqFo7K",
        "outputId": "7d9c70b8-3480-4118-9897-5af760855de2",
        "colab": {
          "base_uri": "https://localhost:8080/",
          "height": 295
        }
      },
      "execution_count": 19,
      "outputs": [
        {
          "output_type": "display_data",
          "data": {
            "text/plain": [
              "<Figure size 432x288 with 1 Axes>"
            ],
            "image/png": "[encoded data removed]"
          },
          "metadata": {
            "needs_background": "light"
          }
        }
      ]
    },
    {
      "cell_type": "markdown",
      "source": [
        "### Caso 2: Con regularizador l2"
      ],
      "metadata": {
        "id": "hklwKNlMBzya"
      }
    },
    {
      "cell_type": "code",
      "source": [
        "network2 = crea_modelo(2)"
      ],
      "metadata": {
        "id": "tjIs0FziG5Ja",
        "outputId": "60705d44-3181-47ff-ada3-d34b1936de9c",
        "colab": {
          "base_uri": "https://localhost:8080/"
        }
      },
      "execution_count": 20,
      "outputs": [
        {
          "output_type": "stream",
          "name": "stdout",
          "text": [
            "Model: \"sequential_2\"\n",
            "_________________________________________________________________\n",
            " Layer (type)                Output Shape              Param #   \n",
            "=================================================================\n",
            " dense_4 (Dense)             (None, 512)               401920    \n",
            "                                                                 \n",
            " dense_5 (Dense)             (None, 10)                5130      \n",
            "                                                                 \n",
            "=================================================================\n",
            "Total params: 407,050\n",
            "Trainable params: 407,050\n",
            "Non-trainable params: 0\n",
            "_________________________________________________________________\n"
          ]
        }
      ]
    },
    {
      "cell_type": "code",
      "source": [
        "network2 = compila_modelo(network2)"
      ],
      "metadata": {
        "id": "UCdA0K_qyTUq"
      },
      "execution_count": 21,
      "outputs": []
    },
    {
      "cell_type": "code",
      "source": [
        "historia2 = entrena_modelo(network2)"
      ],
      "metadata": {
        "id": "WSuomx5oybpu",
        "outputId": "1e75664c-f6ab-4e38-8ead-07b5630afca7",
        "colab": {
          "base_uri": "https://localhost:8080/"
        }
      },
      "execution_count": 22,
      "outputs": [
        {
          "output_type": "stream",
          "name": "stdout",
          "text": [
            "Epoch 1/30\n",
            "391/391 [==============================] - 2s 4ms/step - loss: 0.5274 - accuracy: 0.9117 - val_loss: 0.2963 - val_accuracy: 0.9547\n",
            "Epoch 2/30\n",
            "391/391 [==============================] - 1s 4ms/step - loss: 0.2649 - accuracy: 0.9541 - val_loss: 0.2152 - val_accuracy: 0.9661\n",
            "Epoch 3/30\n",
            "391/391 [==============================] - 1s 3ms/step - loss: 0.2098 - accuracy: 0.9633 - val_loss: 0.2033 - val_accuracy: 0.9638\n",
            "Epoch 4/30\n",
            "391/391 [==============================] - 1s 3ms/step - loss: 0.1858 - accuracy: 0.9674 - val_loss: 0.1818 - val_accuracy: 0.9672\n",
            "Epoch 5/30\n",
            "391/391 [==============================] - 1s 4ms/step - loss: 0.1726 - accuracy: 0.9706 - val_loss: 0.1910 - val_accuracy: 0.9642\n",
            "Epoch 6/30\n",
            "391/391 [==============================] - 1s 4ms/step - loss: 0.1624 - accuracy: 0.9713 - val_loss: 0.1670 - val_accuracy: 0.9710\n",
            "Epoch 7/30\n",
            "391/391 [==============================] - 1s 3ms/step - loss: 0.1572 - accuracy: 0.9733 - val_loss: 0.1520 - val_accuracy: 0.9745\n",
            "Epoch 8/30\n",
            "391/391 [==============================] - 1s 3ms/step - loss: 0.1523 - accuracy: 0.9730 - val_loss: 0.1634 - val_accuracy: 0.9695\n",
            "Epoch 9/30\n",
            "391/391 [==============================] - 1s 3ms/step - loss: 0.1473 - accuracy: 0.9739 - val_loss: 0.1770 - val_accuracy: 0.9671\n",
            "Epoch 10/30\n",
            "391/391 [==============================] - 1s 4ms/step - loss: 0.1426 - accuracy: 0.9761 - val_loss: 0.1504 - val_accuracy: 0.9742\n",
            "Epoch 11/30\n",
            "391/391 [==============================] - 1s 3ms/step - loss: 0.1393 - accuracy: 0.9761 - val_loss: 0.1516 - val_accuracy: 0.9729\n",
            "Epoch 12/30\n",
            "391/391 [==============================] - 1s 3ms/step - loss: 0.1356 - accuracy: 0.9773 - val_loss: 0.1458 - val_accuracy: 0.9746\n",
            "Epoch 13/30\n",
            "391/391 [==============================] - 1s 3ms/step - loss: 0.1338 - accuracy: 0.9776 - val_loss: 0.1397 - val_accuracy: 0.9764\n",
            "Epoch 14/30\n",
            "391/391 [==============================] - 1s 3ms/step - loss: 0.1306 - accuracy: 0.9779 - val_loss: 0.1501 - val_accuracy: 0.9737\n",
            "Epoch 15/30\n",
            "391/391 [==============================] - 1s 4ms/step - loss: 0.1292 - accuracy: 0.9785 - val_loss: 0.1578 - val_accuracy: 0.9693\n",
            "Epoch 16/30\n",
            "391/391 [==============================] - 1s 4ms/step - loss: 0.1262 - accuracy: 0.9786 - val_loss: 0.1582 - val_accuracy: 0.9705\n",
            "Epoch 17/30\n",
            "391/391 [==============================] - 1s 3ms/step - loss: 0.1268 - accuracy: 0.9792 - val_loss: 0.1639 - val_accuracy: 0.9685\n",
            "Epoch 18/30\n",
            "391/391 [==============================] - 1s 3ms/step - loss: 0.1231 - accuracy: 0.9797 - val_loss: 0.1349 - val_accuracy: 0.9765\n",
            "Epoch 19/30\n",
            "391/391 [==============================] - 1s 3ms/step - loss: 0.1195 - accuracy: 0.9808 - val_loss: 0.1619 - val_accuracy: 0.9696\n",
            "Epoch 20/30\n",
            "391/391 [==============================] - 1s 4ms/step - loss: 0.1207 - accuracy: 0.9790 - val_loss: 0.1471 - val_accuracy: 0.9730\n",
            "Epoch 21/30\n",
            "391/391 [==============================] - 1s 3ms/step - loss: 0.1185 - accuracy: 0.9800 - val_loss: 0.1451 - val_accuracy: 0.9738\n",
            "Epoch 22/30\n",
            "391/391 [==============================] - 1s 3ms/step - loss: 0.1172 - accuracy: 0.9798 - val_loss: 0.1401 - val_accuracy: 0.9744\n",
            "Epoch 23/30\n",
            "391/391 [==============================] - 1s 3ms/step - loss: 0.1166 - accuracy: 0.9796 - val_loss: 0.1320 - val_accuracy: 0.9761\n",
            "Epoch 24/30\n",
            "391/391 [==============================] - 1s 3ms/step - loss: 0.1147 - accuracy: 0.9813 - val_loss: 0.1504 - val_accuracy: 0.9716\n",
            "Epoch 25/30\n",
            "391/391 [==============================] - 1s 3ms/step - loss: 0.1134 - accuracy: 0.9815 - val_loss: 0.1385 - val_accuracy: 0.9748\n",
            "Epoch 26/30\n",
            "391/391 [==============================] - 2s 4ms/step - loss: 0.1104 - accuracy: 0.9826 - val_loss: 0.1280 - val_accuracy: 0.9777\n",
            "Epoch 27/30\n",
            "391/391 [==============================] - 1s 3ms/step - loss: 0.1114 - accuracy: 0.9817 - val_loss: 0.1298 - val_accuracy: 0.9773\n",
            "Epoch 28/30\n",
            "391/391 [==============================] - 1s 4ms/step - loss: 0.1090 - accuracy: 0.9817 - val_loss: 0.1707 - val_accuracy: 0.9675\n",
            "Epoch 29/30\n",
            "391/391 [==============================] - 1s 3ms/step - loss: 0.1088 - accuracy: 0.9821 - val_loss: 0.1389 - val_accuracy: 0.9765\n",
            "Epoch 30/30\n",
            "391/391 [==============================] - 1s 3ms/step - loss: 0.1078 - accuracy: 0.9820 - val_loss: 0.1335 - val_accuracy: 0.9754\n"
          ]
        }
      ]
    },
    {
      "cell_type": "code",
      "source": [
        "pinta_perdida_entrenamiento_validacion(historia2)"
      ],
      "metadata": {
        "id": "aXXzm8tpyj6X",
        "colab": {
          "base_uri": "https://localhost:8080/",
          "height": 295
        },
        "outputId": "7d111ce1-b3b2-4830-e954-a67d7f099e54"
      },
      "execution_count": 23,
      "outputs": [
        {
          "output_type": "display_data",
          "data": {
            "text/plain": [
              "<Figure size 432x288 with 1 Axes>"
            ],
            "image/png": "[encoded data removed]"
          },
          "metadata": {
            "needs_background": "light"
          }
        }
      ]
    },
    {
      "cell_type": "code",
      "source": [
        "pinta_precision_entrenamiento_validacion(historia2)"
      ],
      "metadata": {
        "id": "CLTsg5LTypH9",
        "colab": {
          "base_uri": "https://localhost:8080/",
          "height": 295
        },
        "outputId": "e39d8643-8657-4ffa-fa78-fcffe6fbff3d"
      },
      "execution_count": 24,
      "outputs": [
        {
          "output_type": "display_data",
          "data": {
            "text/plain": [
              "<Figure size 432x288 with 1 Axes>"
            ],
            "image/png": "[encoded data removed]"
          },
          "metadata": {
            "needs_background": "light"
          }
        }
      ]
    },
    {
      "cell_type": "markdown",
      "source": [
        "### Caso 3: Con regularizador l1_l2"
      ],
      "metadata": {
        "id": "692oWz8oB82n"
      }
    },
    {
      "cell_type": "code",
      "source": [
        "network3 = crea_modelo(3)"
      ],
      "metadata": {
        "id": "5fdxkjoKzFcu",
        "colab": {
          "base_uri": "https://localhost:8080/"
        },
        "outputId": "faac5fff-391f-4463-b778-cd28723d4303"
      },
      "execution_count": 25,
      "outputs": [
        {
          "output_type": "stream",
          "name": "stdout",
          "text": [
            "Model: \"sequential_3\"\n",
            "_________________________________________________________________\n",
            " Layer (type)                Output Shape              Param #   \n",
            "=================================================================\n",
            " dense_6 (Dense)             (None, 512)               401920    \n",
            "                                                                 \n",
            " dense_7 (Dense)             (None, 10)                5130      \n",
            "                                                                 \n",
            "=================================================================\n",
            "Total params: 407,050\n",
            "Trainable params: 407,050\n",
            "Non-trainable params: 0\n",
            "_________________________________________________________________\n"
          ]
        }
      ]
    },
    {
      "cell_type": "code",
      "source": [
        "network3 = compila_modelo(network3)"
      ],
      "metadata": {
        "id": "VJzs9A2yzPhx"
      },
      "execution_count": 26,
      "outputs": []
    },
    {
      "cell_type": "code",
      "source": [
        "historia3 = entrena_modelo(network3)"
      ],
      "metadata": {
        "id": "1JCUbcCQzY6E",
        "colab": {
          "base_uri": "https://localhost:8080/"
        },
        "outputId": "b1158b0d-eabe-4b10-b0f5-e54c6364e8a0"
      },
      "execution_count": 27,
      "outputs": [
        {
          "output_type": "stream",
          "name": "stdout",
          "text": [
            "Epoch 1/30\n",
            "391/391 [==============================] - 2s 5ms/step - loss: 2.3367 - accuracy: 0.8264 - val_loss: 1.0568 - val_accuracy: 0.8829\n",
            "Epoch 2/30\n",
            "391/391 [==============================] - 1s 4ms/step - loss: 1.0498 - accuracy: 0.8615 - val_loss: 0.9876 - val_accuracy: 0.8631\n",
            "Epoch 3/30\n",
            "391/391 [==============================] - 1s 3ms/step - loss: 0.9478 - accuracy: 0.8775 - val_loss: 0.8667 - val_accuracy: 0.9004\n",
            "Epoch 4/30\n",
            "391/391 [==============================] - 2s 4ms/step - loss: 0.8820 - accuracy: 0.8908 - val_loss: 0.8676 - val_accuracy: 0.8907\n",
            "Epoch 5/30\n",
            "391/391 [==============================] - 1s 3ms/step - loss: 0.8279 - accuracy: 0.9010 - val_loss: 0.8476 - val_accuracy: 0.8919\n",
            "Epoch 6/30\n",
            "391/391 [==============================] - 1s 4ms/step - loss: 0.7863 - accuracy: 0.9102 - val_loss: 0.7185 - val_accuracy: 0.9321\n",
            "Epoch 7/30\n",
            "391/391 [==============================] - 1s 3ms/step - loss: 0.7538 - accuracy: 0.9165 - val_loss: 0.7422 - val_accuracy: 0.9292\n",
            "Epoch 8/30\n",
            "391/391 [==============================] - 1s 4ms/step - loss: 0.7260 - accuracy: 0.9205 - val_loss: 0.7121 - val_accuracy: 0.9277\n",
            "Epoch 9/30\n",
            "391/391 [==============================] - 2s 4ms/step - loss: 0.7057 - accuracy: 0.9250 - val_loss: 0.6946 - val_accuracy: 0.9314\n",
            "Epoch 10/30\n",
            "391/391 [==============================] - 1s 3ms/step - loss: 0.6869 - accuracy: 0.9276 - val_loss: 0.7123 - val_accuracy: 0.9151\n",
            "Epoch 11/30\n",
            "391/391 [==============================] - 1s 3ms/step - loss: 0.6708 - accuracy: 0.9306 - val_loss: 0.6346 - val_accuracy: 0.9455\n",
            "Epoch 12/30\n",
            "391/391 [==============================] - 1s 3ms/step - loss: 0.6567 - accuracy: 0.9329 - val_loss: 0.5946 - val_accuracy: 0.9506\n",
            "Epoch 13/30\n",
            "391/391 [==============================] - 1s 4ms/step - loss: 0.6450 - accuracy: 0.9345 - val_loss: 0.5883 - val_accuracy: 0.9526\n",
            "Epoch 14/30\n",
            "391/391 [==============================] - 1s 3ms/step - loss: 0.6342 - accuracy: 0.9370 - val_loss: 0.5906 - val_accuracy: 0.9503\n",
            "Epoch 15/30\n",
            "391/391 [==============================] - 1s 4ms/step - loss: 0.6258 - accuracy: 0.9375 - val_loss: 0.6584 - val_accuracy: 0.9268\n",
            "Epoch 16/30\n",
            "391/391 [==============================] - 1s 4ms/step - loss: 0.6181 - accuracy: 0.9384 - val_loss: 0.6236 - val_accuracy: 0.9338\n",
            "Epoch 17/30\n",
            "391/391 [==============================] - 1s 4ms/step - loss: 0.6117 - accuracy: 0.9392 - val_loss: 0.6925 - val_accuracy: 0.9105\n",
            "Epoch 18/30\n",
            "391/391 [==============================] - 1s 4ms/step - loss: 0.6035 - accuracy: 0.9415 - val_loss: 0.5990 - val_accuracy: 0.9447\n",
            "Epoch 19/30\n",
            "391/391 [==============================] - 1s 4ms/step - loss: 0.5991 - accuracy: 0.9412 - val_loss: 0.5932 - val_accuracy: 0.9442\n",
            "Epoch 20/30\n",
            "391/391 [==============================] - 2s 4ms/step - loss: 0.5926 - accuracy: 0.9423 - val_loss: 0.6421 - val_accuracy: 0.9260\n",
            "Epoch 21/30\n",
            "391/391 [==============================] - 2s 4ms/step - loss: 0.5839 - accuracy: 0.9444 - val_loss: 0.5963 - val_accuracy: 0.9427\n",
            "Epoch 22/30\n",
            "391/391 [==============================] - 2s 4ms/step - loss: 0.5805 - accuracy: 0.9446 - val_loss: 0.6267 - val_accuracy: 0.9287\n",
            "Epoch 23/30\n",
            "391/391 [==============================] - 2s 4ms/step - loss: 0.5759 - accuracy: 0.9458 - val_loss: 0.6096 - val_accuracy: 0.9346\n",
            "Epoch 24/30\n",
            "391/391 [==============================] - 2s 4ms/step - loss: 0.5714 - accuracy: 0.9467 - val_loss: 0.5622 - val_accuracy: 0.9497\n",
            "Epoch 25/30\n",
            "391/391 [==============================] - 1s 4ms/step - loss: 0.5695 - accuracy: 0.9454 - val_loss: 0.5702 - val_accuracy: 0.9438\n",
            "Epoch 26/30\n",
            "391/391 [==============================] - 1s 4ms/step - loss: 0.5636 - accuracy: 0.9486 - val_loss: 0.6871 - val_accuracy: 0.9050\n",
            "Epoch 27/30\n",
            "391/391 [==============================] - 1s 4ms/step - loss: 0.5628 - accuracy: 0.9466 - val_loss: 0.5363 - val_accuracy: 0.9551\n",
            "Epoch 28/30\n",
            "391/391 [==============================] - 1s 4ms/step - loss: 0.5577 - accuracy: 0.9473 - val_loss: 0.5572 - val_accuracy: 0.9478\n",
            "Epoch 29/30\n",
            "391/391 [==============================] - 1s 4ms/step - loss: 0.5552 - accuracy: 0.9484 - val_loss: 0.5468 - val_accuracy: 0.9501\n",
            "Epoch 30/30\n",
            "391/391 [==============================] - 1s 3ms/step - loss: 0.5523 - accuracy: 0.9478 - val_loss: 0.5230 - val_accuracy: 0.9603\n"
          ]
        }
      ]
    },
    {
      "cell_type": "code",
      "source": [
        "pinta_perdida_entrenamiento_validacion(historia3)"
      ],
      "metadata": {
        "id": "I8XzPVtyze8y",
        "outputId": "5218636b-6bdf-40de-9d41-5772156b2229",
        "colab": {
          "base_uri": "https://localhost:8080/",
          "height": 295
        }
      },
      "execution_count": 28,
      "outputs": [
        {
          "output_type": "display_data",
          "data": {
            "text/plain": [
              "<Figure size 432x288 with 1 Axes>"
            ],
            "image/png": "[encoded data removed]"
          },
          "metadata": {
            "needs_background": "light"
          }
        }
      ]
    },
    {
      "cell_type": "code",
      "source": [
        "pinta_precision_entrenamiento_validacion(historia3)"
      ],
      "metadata": {
        "id": "nKk7AmM8zi3A",
        "colab": {
          "base_uri": "https://localhost:8080/",
          "height": 295
        },
        "outputId": "347d6471-4877-485c-e64d-c375d92f0b0b"
      },
      "execution_count": 29,
      "outputs": [
        {
          "output_type": "display_data",
          "data": {
            "text/plain": [
              "<Figure size 432x288 with 1 Axes>"
            ],
            "image/png": "[encoded data removed]"
          },
          "metadata": {
            "needs_background": "light"
          }
        }
      ]
    },
    {
      "cell_type": "markdown",
      "source": [
        "### Caso 4: Con Droput"
      ],
      "metadata": {
        "id": "OPVcbgcXCFRL"
      }
    },
    {
      "cell_type": "code",
      "source": [
        "network4 = crea_modelo(4)"
      ],
      "metadata": {
        "id": "5MVbUNX11Pgr",
        "colab": {
          "base_uri": "https://localhost:8080/"
        },
        "outputId": "159c0ee6-5a0b-41de-c99f-108ea7e4e107"
      },
      "execution_count": 30,
      "outputs": [
        {
          "output_type": "stream",
          "name": "stdout",
          "text": [
            "Model: \"sequential_4\"\n",
            "_________________________________________________________________\n",
            " Layer (type)                Output Shape              Param #   \n",
            "=================================================================\n",
            " dense_8 (Dense)             (None, 512)               401920    \n",
            "                                                                 \n",
            " dropout (Dropout)           (None, 512)               0         \n",
            "                                                                 \n",
            " dense_9 (Dense)             (None, 10)                5130      \n",
            "                                                                 \n",
            "=================================================================\n",
            "Total params: 407,050\n",
            "Trainable params: 407,050\n",
            "Non-trainable params: 0\n",
            "_________________________________________________________________\n"
          ]
        }
      ]
    },
    {
      "cell_type": "code",
      "source": [
        "network4 = compila_modelo(network4)"
      ],
      "metadata": {
        "id": "pT-13IKI1UpW"
      },
      "execution_count": 31,
      "outputs": []
    },
    {
      "cell_type": "code",
      "source": [
        "historia4 = entrena_modelo(network4)"
      ],
      "metadata": {
        "id": "kNWidx1S1aCH",
        "colab": {
          "base_uri": "https://localhost:8080/"
        },
        "outputId": "a75e6296-e127-4147-be85-d53b4d6fe4f9"
      },
      "execution_count": 32,
      "outputs": [
        {
          "output_type": "stream",
          "name": "stdout",
          "text": [
            "Epoch 1/30\n",
            "391/391 [==============================] - 2s 4ms/step - loss: 0.3482 - accuracy: 0.8980 - val_loss: 0.1483 - val_accuracy: 0.9594\n",
            "Epoch 2/30\n",
            "391/391 [==============================] - 2s 4ms/step - loss: 0.1688 - accuracy: 0.9499 - val_loss: 0.1157 - val_accuracy: 0.9664\n",
            "Epoch 3/30\n",
            "391/391 [==============================] - 2s 4ms/step - loss: 0.1293 - accuracy: 0.9616 - val_loss: 0.0979 - val_accuracy: 0.9708\n",
            "Epoch 4/30\n",
            "391/391 [==============================] - 2s 4ms/step - loss: 0.1055 - accuracy: 0.9688 - val_loss: 0.0936 - val_accuracy: 0.9736\n",
            "Epoch 5/30\n",
            "391/391 [==============================] - 1s 3ms/step - loss: 0.0933 - accuracy: 0.9726 - val_loss: 0.0846 - val_accuracy: 0.9765\n",
            "Epoch 6/30\n",
            "391/391 [==============================] - 1s 4ms/step - loss: 0.0823 - accuracy: 0.9753 - val_loss: 0.0854 - val_accuracy: 0.9770\n",
            "Epoch 7/30\n",
            "391/391 [==============================] - 2s 4ms/step - loss: 0.0746 - accuracy: 0.9775 - val_loss: 0.0813 - val_accuracy: 0.9777\n",
            "Epoch 8/30\n",
            "391/391 [==============================] - 1s 4ms/step - loss: 0.0701 - accuracy: 0.9787 - val_loss: 0.0767 - val_accuracy: 0.9802\n",
            "Epoch 9/30\n",
            "391/391 [==============================] - 2s 4ms/step - loss: 0.0622 - accuracy: 0.9815 - val_loss: 0.0823 - val_accuracy: 0.9789\n",
            "Epoch 10/30\n",
            "391/391 [==============================] - 2s 4ms/step - loss: 0.0580 - accuracy: 0.9820 - val_loss: 0.0810 - val_accuracy: 0.9789\n",
            "Epoch 11/30\n",
            "391/391 [==============================] - 1s 4ms/step - loss: 0.0550 - accuracy: 0.9836 - val_loss: 0.0781 - val_accuracy: 0.9805\n",
            "Epoch 12/30\n",
            "391/391 [==============================] - 1s 4ms/step - loss: 0.0537 - accuracy: 0.9835 - val_loss: 0.0779 - val_accuracy: 0.9811\n",
            "Epoch 13/30\n",
            "391/391 [==============================] - 1s 4ms/step - loss: 0.0490 - accuracy: 0.9844 - val_loss: 0.0779 - val_accuracy: 0.9823\n",
            "Epoch 14/30\n",
            "391/391 [==============================] - 2s 4ms/step - loss: 0.0470 - accuracy: 0.9858 - val_loss: 0.0783 - val_accuracy: 0.9823\n",
            "Epoch 15/30\n",
            "391/391 [==============================] - 1s 3ms/step - loss: 0.0439 - accuracy: 0.9867 - val_loss: 0.0816 - val_accuracy: 0.9808\n",
            "Epoch 16/30\n",
            "391/391 [==============================] - 1s 3ms/step - loss: 0.0442 - accuracy: 0.9871 - val_loss: 0.0787 - val_accuracy: 0.9815\n",
            "Epoch 17/30\n",
            "391/391 [==============================] - 1s 3ms/step - loss: 0.0421 - accuracy: 0.9875 - val_loss: 0.0820 - val_accuracy: 0.9810\n",
            "Epoch 18/30\n",
            "391/391 [==============================] - 1s 4ms/step - loss: 0.0400 - accuracy: 0.9878 - val_loss: 0.0842 - val_accuracy: 0.9815\n",
            "Epoch 19/30\n",
            "391/391 [==============================] - 1s 3ms/step - loss: 0.0385 - accuracy: 0.9887 - val_loss: 0.0858 - val_accuracy: 0.9814\n",
            "Epoch 20/30\n",
            "391/391 [==============================] - 1s 4ms/step - loss: 0.0363 - accuracy: 0.9891 - val_loss: 0.0863 - val_accuracy: 0.9817\n",
            "Epoch 21/30\n",
            "391/391 [==============================] - 1s 4ms/step - loss: 0.0344 - accuracy: 0.9902 - val_loss: 0.0818 - val_accuracy: 0.9820\n",
            "Epoch 22/30\n",
            "391/391 [==============================] - 1s 3ms/step - loss: 0.0334 - accuracy: 0.9901 - val_loss: 0.0873 - val_accuracy: 0.9812\n",
            "Epoch 23/30\n",
            "391/391 [==============================] - 1s 3ms/step - loss: 0.0338 - accuracy: 0.9896 - val_loss: 0.0896 - val_accuracy: 0.9815\n",
            "Epoch 24/30\n",
            "391/391 [==============================] - 1s 3ms/step - loss: 0.0326 - accuracy: 0.9898 - val_loss: 0.0846 - val_accuracy: 0.9818\n",
            "Epoch 25/30\n",
            "391/391 [==============================] - 2s 4ms/step - loss: 0.0301 - accuracy: 0.9907 - val_loss: 0.0883 - val_accuracy: 0.9823\n",
            "Epoch 26/30\n",
            "391/391 [==============================] - 1s 3ms/step - loss: 0.0288 - accuracy: 0.9911 - val_loss: 0.0936 - val_accuracy: 0.9821\n",
            "Epoch 27/30\n",
            "391/391 [==============================] - 1s 3ms/step - loss: 0.0283 - accuracy: 0.9913 - val_loss: 0.0943 - val_accuracy: 0.9831\n",
            "Epoch 28/30\n",
            "391/391 [==============================] - 1s 4ms/step - loss: 0.0274 - accuracy: 0.9916 - val_loss: 0.0935 - val_accuracy: 0.9833\n",
            "Epoch 29/30\n",
            "391/391 [==============================] - 2s 4ms/step - loss: 0.0264 - accuracy: 0.9922 - val_loss: 0.0951 - val_accuracy: 0.9829\n",
            "Epoch 30/30\n",
            "391/391 [==============================] - 2s 4ms/step - loss: 0.0275 - accuracy: 0.9915 - val_loss: 0.0965 - val_accuracy: 0.9829\n"
          ]
        }
      ]
    },
    {
      "cell_type": "code",
      "source": [
        "pinta_perdida_entrenamiento_validacion(historia4)"
      ],
      "metadata": {
        "id": "R9pI34Yr1gBO",
        "colab": {
          "base_uri": "https://localhost:8080/",
          "height": 295
        },
        "outputId": "371288d2-a8f2-472f-baac-4e79e2b09019"
      },
      "execution_count": 33,
      "outputs": [
        {
          "output_type": "display_data",
          "data": {
            "text/plain": [
              "<Figure size 432x288 with 1 Axes>"
            ],
            "image/png": "[encoded data removed]"
          },
          "metadata": {
            "needs_background": "light"
          }
        }
      ]
    },
    {
      "cell_type": "code",
      "source": [
        "pinta_precision_entrenamiento_validacion(historia4)"
      ],
      "metadata": {
        "id": "EwEIEOKx1lQr",
        "outputId": "d88ba3ee-d856-4088-e748-744e47d21224",
        "colab": {
          "base_uri": "https://localhost:8080/",
          "height": 295
        }
      },
      "execution_count": 34,
      "outputs": [
        {
          "output_type": "display_data",
          "data": {
            "text/plain": [
              "<Figure size 432x288 with 1 Axes>"
            ],
            "image/png": "[encoded data removed]"
          },
          "metadata": {
            "needs_background": "light"
          }
        }
      ]
    },
    {
      "cell_type": "markdown",
      "source": [
        "### Caso 5: Error de código de regularizador"
      ],
      "metadata": {
        "id": "e6rlKx2nCOgU"
      }
    },
    {
      "cell_type": "code",
      "source": [
        "network5 = crea_modelo(5)"
      ],
      "metadata": {
        "id": "SqGDm8VM1rwR",
        "outputId": "0bfddc63-a5b6-4717-aa4b-f0f512562a7e",
        "colab": {
          "base_uri": "https://localhost:8080/"
        }
      },
      "execution_count": 35,
      "outputs": [
        {
          "output_type": "stream",
          "name": "stdout",
          "text": [
            "El número introducido no sirve. Debe estar entre 0 y 4.\n"
          ]
        }
      ]
    },
    {
      "cell_type": "markdown",
      "source": [
        "### CONCLUSIONES\n",
        "Lógicamente, el caso 0 (sin regularizador) no funciona correctamente, pues en tan solo 12 épocas se sobreentrena. Además, la gráfica muestra una gran diferencia entre los valores de validación y los de entrenamiento tanto en la pérdida como en la precisión.\n",
        "\n",
        "En orden de menor a mayor eficiencia de regularizadores concluyo que:\n",
        "\n",
        " - Los menos óptimos son l1 y l1_l2, pues aunque devuelven una gran precsión del modelo, la función de pérdida se encuentra por encima de 0.5.\n",
        " - A continuación, el regularizador l2 es bastante potente para nuestro ejemplo, puesto que el valor de pérdida se encuentra alrededor del 0.1 y la precisión está sobre el 0.97.\n",
        " - Por último, el más óptimo corresponde al caso en el que se usa el dropout. Pues la pérdida se encuentra **por debajo del 0.1** y la precisión es de un 0.98.\n",
        "\n",
        " Se debe destacar que al aplicar cualquier regularizador, en todas las gráficas podemos observar que la línea de validación se ciñe bastante a la de entrenamiento, tanto en la pérdida como en la precisión.\n",
        " Otra cosa importante, es que lo que buscamos al resolver el problema es una gran precisión, de forma que aquellos modelos que he citado como menos óptimos, funcionarían bien aún con un valor de pérdida alto."
      ],
      "metadata": {
        "id": "IklUu29cCcVe"
      }
    }
  ]
}