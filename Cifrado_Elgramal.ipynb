{
  "nbformat": 4,
  "nbformat_minor": 0,
  "metadata": {
    "colab": {
      "provenance": [],
      "authorship_tag": "ABX9TyPMD6V0Zt/DnQHD+OL78pRa",
      "include_colab_link": true
    },
    "kernelspec": {
      "name": "python3",
      "display_name": "Python 3"
    },
    "language_info": {
      "name": "python"
    }
  },
  "cells": [
    {
      "cell_type": "markdown",
      "metadata": {
        "id": "view-in-github",
        "colab_type": "text"
      },
      "source": [
        "<a href=\"https://colab.research.google.com/github/Ana-AlonsoCanizares/Practicas_Individuales/blob/main/Cifrado_Elgramal.ipynb\" target=\"_parent\"><img src=\"https://colab.research.google.com/assets/colab-badge.svg\" alt=\"Open In Colab\"/></a>"
      ]
    },
    {
      "cell_type": "code",
      "execution_count": 26,
      "metadata": {
        "id": "-6jVhFLAScBP"
      },
      "outputs": [],
      "source": [
        "q = 15485863\n",
        "alpha = 7\n",
        "xa = 21702\n",
        "k = 480\n",
        "# m = HIJO = 7*26^0 + 8*26^1 9*26^2 14*26^3\n",
        "m = 128688\n",
        "abc = ['a','b','c','d','e','f','g','h','i','j','k','l','m','n','o','p','q','r','s','t','u','v','w','x','y','z']\n",
        "\n",
        "def cifrado(q, m, alpha, xa, k):\n",
        "  ya = alpha^xa%q\n",
        "\n",
        "  c1 = alpha^k%q\n",
        "  c2 = ya^k*m%q\n",
        "  c = [c1,c2]\n",
        "\n",
        "  return c"
      ]
    },
    {
      "cell_type": "code",
      "source": [
        "c = cifrado(q, m, alpha, xa, k)\n",
        "c"
      ],
      "metadata": {
        "colab": {
          "base_uri": "https://localhost:8080/"
        },
        "id": "aZbOc7qXUHtC",
        "outputId": "b1a1f977-0690-4b99-8dbd-49c0bfe118d8"
      },
      "execution_count": 27,
      "outputs": [
        {
          "output_type": "execute_result",
          "data": {
            "text/plain": [
              "[487, 15332298]"
            ]
          },
          "metadata": {},
          "execution_count": 27
        }
      ]
    },
    {
      "cell_type": "code",
      "source": [
        "def en_letras(abc, c):\n",
        "  palabra = []\n",
        "  resto = 0\n",
        "  while c != 0:\n",
        "    resto = c%len(abc)\n",
        "    palabra.append(round(resto))\n",
        "    c = (c-resto)/len(abc)\n",
        "  c_letras = []\n",
        "  for j in palabra:\n",
        "    c_letras.append(abc[j])\n",
        "  c_letras.reverse()\n",
        "\n",
        "  return c_letras"
      ],
      "metadata": {
        "id": "_1qJdIiqVpyG"
      },
      "execution_count": 19,
      "outputs": []
    },
    {
      "cell_type": "code",
      "source": [
        "c1_letras = en_letras(abc,c[0])\n",
        "c1_letras\n",
        "\n",
        "# c2_letras = en_letras(abc,c[1])\n",
        "# c2_letras"
      ],
      "metadata": {
        "colab": {
          "base_uri": "https://localhost:8080/"
        },
        "id": "fG3eoUK3Z7Xl",
        "outputId": "81def311-bab9-4186-d146-79f6ee6a4127"
      },
      "execution_count": 24,
      "outputs": [
        {
          "output_type": "execute_result",
          "data": {
            "text/plain": [
              "['s', 't']"
            ]
          },
          "metadata": {},
          "execution_count": 24
        }
      ]
    }
  ]
}